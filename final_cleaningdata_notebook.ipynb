{
 "cells": [
  {
   "cell_type": "markdown",
   "metadata": {},
   "source": [
    "## Cleaning the Dataset"
   ]
  },
  {
   "cell_type": "markdown",
   "metadata": {},
   "source": [
    "### Loading the required packages"
   ]
  },
  {
   "cell_type": "code",
   "execution_count": 1,
   "metadata": {
    "collapsed": true
   },
   "outputs": [],
   "source": [
    "import numpy as np\n",
    "import pandas as pd\n",
    "import matplotlib.pyplot as plt\n",
    "import seaborn as sns\n",
    "import os\n",
    "import glob\n",
    "from pandas import DataFrame\n",
    "from IPython.display import HTML\n",
    "%matplotlib inline"
   ]
  },
  {
   "cell_type": "markdown",
   "metadata": {},
   "source": [
    "### Combining LendingClub's separate excel spreadsheets"
   ]
  },
  {
   "cell_type": "code",
   "execution_count": null,
   "metadata": {
    "collapsed": true
   },
   "outputs": [],
   "source": [
    "def concatenate (indir = \"/Users/dennisvasquez/Downloads/lc_data_files\", \n",
    "                outfile = \"/Users/dennisvasquez/Downloads/lc_data_files/newfile.csv\"):\n",
    "    os.chdir(indir)\n",
    "    fileList = glob.glob(\"*.csv\")\n",
    "    dfList = []\n",
    "    for filename in fileList:\n",
    "        print(filename)\n",
    "        df = pd.read_csv(filename,header=0, low_memory=False)\n",
    "        dfList.append(df)\n",
    "    concatDf = pd.concat(dfList, axis=0)\n",
    "    concatDf.to_csv(outfile, index=None)"
   ]
  },
  {
   "cell_type": "code",
   "execution_count": null,
   "metadata": {
    "collapsed": true
   },
   "outputs": [],
   "source": [
    "%%time\n",
    "\n",
    "concatenate();"
   ]
  },
  {
   "cell_type": "markdown",
   "metadata": {},
   "source": [
    "### Loading the dataset with select columns"
   ]
  },
  {
   "cell_type": "code",
   "execution_count": 2,
   "metadata": {},
   "outputs": [
    {
     "name": "stdout",
     "output_type": "stream",
     "text": [
      "CPU times: user 21.1 s, sys: 3.71 s, total: 24.8 s\n",
      "Wall time: 26.3 s\n"
     ]
    }
   ],
   "source": [
    "%%time\n",
    "\n",
    "lend = pd.read_csv('/Users/dennisvasquez/Downloads/lc_data_files/newfile.csv',\n",
    "usecols = [\n",
    "'loan_amnt',\n",
    "'grade', # lending club loan grade\n",
    "'int_rate',\n",
    "'home_ownership',\n",
    "'annual_inc',\n",
    "'loan_status',\n",
    "'dti',\n",
    "'delinq_2yrs', # 30dpd delinquencies from past 2 years\n",
    "'inq_last_6mths', # inquiries since past 6 months\n",
    "'open_acc', # number of open credit lines on file\n",
    "'pub_rec', # number of derogatory public records\n",
    "'revol_bal',\n",
    "'revol_util',\n",
    "'total_acc', # total number of credit lines currently on file\n",
    "'last_credit_pull_d', # recent month lendinclub pulled credit\n",
    "'collections_12_mths_ex_med', # number of collections in 12 months excluding medical collections\n",
    "'acc_now_delinq',\n",
    "'tot_cur_bal',\n",
    "'total_rev_hi_lim',\n",
    "'acc_open_past_24mths',\n",
    "'avg_cur_bal',\n",
    "'bc_open_to_buy', # total open-to-buy on revolving bankcards\n",
    "'bc_util', # ratio of current balance to credit limit for all bankcard accounts\n",
    "'chargeoff_within_12_mths',\n",
    "'delinq_amnt',\n",
    "'mo_sin_old_il_acct', # months since oldest installment account was opened\n",
    "'mo_sin_old_rev_tl_op',\n",
    "'mo_sin_rcnt_rev_tl_op',\n",
    "'mo_sin_rcnt_tl', # months since most recent account was opened\n",
    "'mort_acc', # number of mortgage accounts\n",
    "'mths_since_recent_bc', # months since recent bankcard account was opened\n",
    "'mths_since_recent_inq',\n",
    "'num_accts_ever_120_pd',\n",
    "'num_actv_bc_tl',\n",
    "'num_actv_rev_tl',\n",
    "'num_bc_sats', # number of satisfactory bankcard accounts\n",
    "'num_bc_tl', # number of bankcard accounts\n",
    "'num_il_tl',\n",
    "'num_op_rev_tl',\n",
    "'num_rev_accts',\n",
    "'num_rev_tl_bal_gt_0', # number of revolving trades with balance >0\n",
    "'num_sats',\n",
    "'num_tl_120dpd_2m', # number of accounts currently 120 dpd\n",
    "'num_tl_30dpd',\n",
    "'num_tl_90g_dpd_24m',\n",
    "'num_tl_op_past_12m',\n",
    "'pct_tl_nvr_dlq', # percent of trades never delinquent\n",
    "'percent_bc_gt_75', # percent of all bankcard accounts >75%\n",
    "'pub_rec_bankruptcies',\n",
    "'tax_liens',\n",
    "'tot_hi_cred_lim',\n",
    "'total_bal_ex_mort',\n",
    "'total_bc_limit',\n",
    "'total_il_high_credit_limit'\n",
    "], low_memory=True)"
   ]
  },
  {
   "cell_type": "markdown",
   "metadata": {},
   "source": [
    "### Viewing a sample of the dataset and features"
   ]
  },
  {
   "cell_type": "code",
   "execution_count": 3,
   "metadata": {},
   "outputs": [
    {
     "data": {
      "text/html": [
       "<div>\n",
       "<table border=\"1\" class=\"dataframe\">\n",
       "  <thead>\n",
       "    <tr style=\"text-align: right;\">\n",
       "      <th></th>\n",
       "      <th>loan_amnt</th>\n",
       "      <th>int_rate</th>\n",
       "      <th>grade</th>\n",
       "      <th>home_ownership</th>\n",
       "      <th>annual_inc</th>\n",
       "      <th>loan_status</th>\n",
       "      <th>dti</th>\n",
       "      <th>delinq_2yrs</th>\n",
       "      <th>inq_last_6mths</th>\n",
       "      <th>open_acc</th>\n",
       "      <th>...</th>\n",
       "      <th>num_tl_90g_dpd_24m</th>\n",
       "      <th>num_tl_op_past_12m</th>\n",
       "      <th>pct_tl_nvr_dlq</th>\n",
       "      <th>percent_bc_gt_75</th>\n",
       "      <th>pub_rec_bankruptcies</th>\n",
       "      <th>tax_liens</th>\n",
       "      <th>tot_hi_cred_lim</th>\n",
       "      <th>total_bal_ex_mort</th>\n",
       "      <th>total_bc_limit</th>\n",
       "      <th>total_il_high_credit_limit</th>\n",
       "    </tr>\n",
       "  </thead>\n",
       "  <tbody>\n",
       "    <tr>\n",
       "      <th>647549</th>\n",
       "      <td>20000</td>\n",
       "      <td>10.99%</td>\n",
       "      <td>B</td>\n",
       "      <td>MORTGAGE</td>\n",
       "      <td>65000.0</td>\n",
       "      <td>Fully Paid</td>\n",
       "      <td>19.11</td>\n",
       "      <td>0</td>\n",
       "      <td>0.0</td>\n",
       "      <td>13</td>\n",
       "      <td>...</td>\n",
       "      <td>0.0</td>\n",
       "      <td>5.0</td>\n",
       "      <td>88.5</td>\n",
       "      <td>25.0</td>\n",
       "      <td>0.0</td>\n",
       "      <td>0.0</td>\n",
       "      <td>273023.0</td>\n",
       "      <td>52068.0</td>\n",
       "      <td>16300.0</td>\n",
       "      <td>52323.0</td>\n",
       "    </tr>\n",
       "    <tr>\n",
       "      <th>531411</th>\n",
       "      <td>23000</td>\n",
       "      <td>7.89%</td>\n",
       "      <td>A</td>\n",
       "      <td>OWN</td>\n",
       "      <td>90000.0</td>\n",
       "      <td>Fully Paid</td>\n",
       "      <td>10.93</td>\n",
       "      <td>2</td>\n",
       "      <td>0.0</td>\n",
       "      <td>14</td>\n",
       "      <td>...</td>\n",
       "      <td>1.0</td>\n",
       "      <td>4.0</td>\n",
       "      <td>90.9</td>\n",
       "      <td>16.7</td>\n",
       "      <td>0.0</td>\n",
       "      <td>0.0</td>\n",
       "      <td>370242.0</td>\n",
       "      <td>20753.0</td>\n",
       "      <td>35200.0</td>\n",
       "      <td>20742.0</td>\n",
       "    </tr>\n",
       "    <tr>\n",
       "      <th>427849</th>\n",
       "      <td>4000</td>\n",
       "      <td>12.49%</td>\n",
       "      <td>B</td>\n",
       "      <td>MORTGAGE</td>\n",
       "      <td>114600.0</td>\n",
       "      <td>Fully Paid</td>\n",
       "      <td>12.56</td>\n",
       "      <td>0</td>\n",
       "      <td>5.0</td>\n",
       "      <td>15</td>\n",
       "      <td>...</td>\n",
       "      <td>0.0</td>\n",
       "      <td>5.0</td>\n",
       "      <td>84.6</td>\n",
       "      <td>0.0</td>\n",
       "      <td>0.0</td>\n",
       "      <td>0.0</td>\n",
       "      <td>90653.0</td>\n",
       "      <td>41580.0</td>\n",
       "      <td>18800.0</td>\n",
       "      <td>65246.0</td>\n",
       "    </tr>\n",
       "    <tr>\n",
       "      <th>1136555</th>\n",
       "      <td>15000</td>\n",
       "      <td>12.79%</td>\n",
       "      <td>C</td>\n",
       "      <td>RENT</td>\n",
       "      <td>75000.0</td>\n",
       "      <td>Current</td>\n",
       "      <td>19.04</td>\n",
       "      <td>0</td>\n",
       "      <td>1.0</td>\n",
       "      <td>13</td>\n",
       "      <td>...</td>\n",
       "      <td>0.0</td>\n",
       "      <td>2.0</td>\n",
       "      <td>100.0</td>\n",
       "      <td>60.0</td>\n",
       "      <td>1.0</td>\n",
       "      <td>0.0</td>\n",
       "      <td>50580.0</td>\n",
       "      <td>37344.0</td>\n",
       "      <td>19300.0</td>\n",
       "      <td>30480.0</td>\n",
       "    </tr>\n",
       "    <tr>\n",
       "      <th>537338</th>\n",
       "      <td>35000</td>\n",
       "      <td>12.05%</td>\n",
       "      <td>C</td>\n",
       "      <td>MORTGAGE</td>\n",
       "      <td>122000.0</td>\n",
       "      <td>Current</td>\n",
       "      <td>27.99</td>\n",
       "      <td>0</td>\n",
       "      <td>0.0</td>\n",
       "      <td>13</td>\n",
       "      <td>...</td>\n",
       "      <td>0.0</td>\n",
       "      <td>0.0</td>\n",
       "      <td>100.0</td>\n",
       "      <td>100.0</td>\n",
       "      <td>0.0</td>\n",
       "      <td>0.0</td>\n",
       "      <td>300203.0</td>\n",
       "      <td>119623.0</td>\n",
       "      <td>28600.0</td>\n",
       "      <td>123393.0</td>\n",
       "    </tr>\n",
       "  </tbody>\n",
       "</table>\n",
       "<p>5 rows × 54 columns</p>\n",
       "</div>"
      ],
      "text/plain": [
       "         loan_amnt int_rate grade home_ownership  annual_inc loan_status  \\\n",
       "647549       20000   10.99%     B       MORTGAGE     65000.0  Fully Paid   \n",
       "531411       23000    7.89%     A            OWN     90000.0  Fully Paid   \n",
       "427849        4000   12.49%     B       MORTGAGE    114600.0  Fully Paid   \n",
       "1136555      15000   12.79%     C           RENT     75000.0     Current   \n",
       "537338       35000   12.05%     C       MORTGAGE    122000.0     Current   \n",
       "\n",
       "           dti  delinq_2yrs  inq_last_6mths  open_acc  \\\n",
       "647549   19.11            0             0.0        13   \n",
       "531411   10.93            2             0.0        14   \n",
       "427849   12.56            0             5.0        15   \n",
       "1136555  19.04            0             1.0        13   \n",
       "537338   27.99            0             0.0        13   \n",
       "\n",
       "                    ...              num_tl_90g_dpd_24m  num_tl_op_past_12m  \\\n",
       "647549              ...                             0.0                 5.0   \n",
       "531411              ...                             1.0                 4.0   \n",
       "427849              ...                             0.0                 5.0   \n",
       "1136555             ...                             0.0                 2.0   \n",
       "537338              ...                             0.0                 0.0   \n",
       "\n",
       "        pct_tl_nvr_dlq  percent_bc_gt_75 pub_rec_bankruptcies  tax_liens  \\\n",
       "647549            88.5              25.0                  0.0        0.0   \n",
       "531411            90.9              16.7                  0.0        0.0   \n",
       "427849            84.6               0.0                  0.0        0.0   \n",
       "1136555          100.0              60.0                  1.0        0.0   \n",
       "537338           100.0             100.0                  0.0        0.0   \n",
       "\n",
       "         tot_hi_cred_lim  total_bal_ex_mort  total_bc_limit  \\\n",
       "647549          273023.0            52068.0         16300.0   \n",
       "531411          370242.0            20753.0         35200.0   \n",
       "427849           90653.0            41580.0         18800.0   \n",
       "1136555          50580.0            37344.0         19300.0   \n",
       "537338          300203.0           119623.0         28600.0   \n",
       "\n",
       "         total_il_high_credit_limit  \n",
       "647549                      52323.0  \n",
       "531411                      20742.0  \n",
       "427849                      65246.0  \n",
       "1136555                     30480.0  \n",
       "537338                     123393.0  \n",
       "\n",
       "[5 rows x 54 columns]"
      ]
     },
     "execution_count": 3,
     "metadata": {},
     "output_type": "execute_result"
    }
   ],
   "source": [
    "lend.sample(5)"
   ]
  },
  {
   "cell_type": "markdown",
   "metadata": {},
   "source": [
    "### Number of dataset rows and features"
   ]
  },
  {
   "cell_type": "code",
   "execution_count": 4,
   "metadata": {
    "scrolled": false
   },
   "outputs": [
    {
     "data": {
      "text/plain": [
       "(1319098, 54)"
      ]
     },
     "execution_count": 4,
     "metadata": {},
     "output_type": "execute_result"
    }
   ],
   "source": [
    "# 1,319,098 files with 54 features\n",
    "lend.shape"
   ]
  },
  {
   "cell_type": "code",
   "execution_count": 5,
   "metadata": {},
   "outputs": [
    {
     "name": "stdout",
     "output_type": "stream",
     "text": [
      "<class 'pandas.core.frame.DataFrame'>\n",
      "RangeIndex: 1319098 entries, 0 to 1319097\n",
      "Data columns (total 54 columns):\n",
      "loan_amnt                     1319098 non-null int64\n",
      "int_rate                      1319098 non-null object\n",
      "grade                         1319098 non-null object\n",
      "home_ownership                1319098 non-null object\n",
      "annual_inc                    1319098 non-null float64\n",
      "loan_status                   1319098 non-null object\n",
      "dti                           1319098 non-null float64\n",
      "delinq_2yrs                   1319098 non-null int64\n",
      "inq_last_6mths                1319097 non-null float64\n",
      "open_acc                      1319098 non-null int64\n",
      "pub_rec                       1319098 non-null int64\n",
      "revol_bal                     1319098 non-null int64\n",
      "revol_util                    1318372 non-null object\n",
      "total_acc                     1319098 non-null int64\n",
      "last_credit_pull_d            1319026 non-null object\n",
      "collections_12_mths_ex_med    1319042 non-null float64\n",
      "acc_now_delinq                1319098 non-null int64\n",
      "tot_cur_bal                   1251571 non-null float64\n",
      "total_rev_hi_lim              1251571 non-null float64\n",
      "acc_open_past_24mths          1271817 non-null float64\n",
      "avg_cur_bal                   1251559 non-null float64\n",
      "bc_open_to_buy                1259244 non-null float64\n",
      "bc_util                       1258527 non-null float64\n",
      "chargeoff_within_12_mths      1319042 non-null float64\n",
      "delinq_amnt                   1319098 non-null int64\n",
      "mo_sin_old_il_acct            1214312 non-null float64\n",
      "mo_sin_old_rev_tl_op          1251570 non-null float64\n",
      "mo_sin_rcnt_rev_tl_op         1251570 non-null float64\n",
      "mo_sin_rcnt_tl                1251571 non-null float64\n",
      "mort_acc                      1271817 non-null float64\n",
      "mths_since_recent_bc          1260066 non-null float64\n",
      "mths_since_recent_inq         1139670 non-null float64\n",
      "num_accts_ever_120_pd         1251571 non-null float64\n",
      "num_actv_bc_tl                1251571 non-null float64\n",
      "num_actv_rev_tl               1251571 non-null float64\n",
      "num_bc_sats                   1263257 non-null float64\n",
      "num_bc_tl                     1251571 non-null float64\n",
      "num_il_tl                     1251571 non-null float64\n",
      "num_op_rev_tl                 1251571 non-null float64\n",
      "num_rev_accts                 1251570 non-null float64\n",
      "num_rev_tl_bal_gt_0           1251571 non-null float64\n",
      "num_sats                      1263257 non-null float64\n",
      "num_tl_120dpd_2m              1202848 non-null float64\n",
      "num_tl_30dpd                  1251571 non-null float64\n",
      "num_tl_90g_dpd_24m            1251571 non-null float64\n",
      "num_tl_op_past_12m            1251571 non-null float64\n",
      "pct_tl_nvr_dlq                1251418 non-null float64\n",
      "percent_bc_gt_75              1258823 non-null float64\n",
      "pub_rec_bankruptcies          1318401 non-null float64\n",
      "tax_liens                     1319059 non-null float64\n",
      "tot_hi_cred_lim               1251571 non-null float64\n",
      "total_bal_ex_mort             1271817 non-null float64\n",
      "total_bc_limit                1271817 non-null float64\n",
      "total_il_high_credit_limit    1251571 non-null float64\n",
      "dtypes: float64(40), int64(8), object(6)\n",
      "memory usage: 543.5+ MB\n"
     ]
    }
   ],
   "source": [
    "# Name and datatypes of columns\n",
    "lend.info()"
   ]
  },
  {
   "cell_type": "code",
   "execution_count": 6,
   "metadata": {
    "scrolled": false
   },
   "outputs": [
    {
     "data": {
      "text/plain": [
       "False    1319097\n",
       "True           1\n",
       "dtype: int64"
      ]
     },
     "execution_count": 6,
     "metadata": {},
     "output_type": "execute_result"
    }
   ],
   "source": [
    "# identifying and erasing any duplicate files\n",
    "lend.duplicated().value_counts()"
   ]
  },
  {
   "cell_type": "code",
   "execution_count": 7,
   "metadata": {
    "collapsed": true
   },
   "outputs": [],
   "source": [
    "lend.drop_duplicates();"
   ]
  },
  {
   "cell_type": "markdown",
   "metadata": {},
   "source": [
    "### Number of NaN values in each column"
   ]
  },
  {
   "cell_type": "code",
   "execution_count": 8,
   "metadata": {
    "scrolled": false
   },
   "outputs": [
    {
     "data": {
      "text/plain": [
       "loan_amnt                          0\n",
       "int_rate                           0\n",
       "grade                              0\n",
       "home_ownership                     0\n",
       "annual_inc                         0\n",
       "loan_status                        0\n",
       "dti                                0\n",
       "delinq_2yrs                        0\n",
       "inq_last_6mths                     1\n",
       "open_acc                           0\n",
       "pub_rec                            0\n",
       "revol_bal                          0\n",
       "revol_util                       726\n",
       "total_acc                          0\n",
       "last_credit_pull_d                72\n",
       "collections_12_mths_ex_med        56\n",
       "acc_now_delinq                     0\n",
       "tot_cur_bal                    67527\n",
       "total_rev_hi_lim               67527\n",
       "acc_open_past_24mths           47281\n",
       "avg_cur_bal                    67539\n",
       "bc_open_to_buy                 59854\n",
       "bc_util                        60571\n",
       "chargeoff_within_12_mths          56\n",
       "delinq_amnt                        0\n",
       "mo_sin_old_il_acct            104786\n",
       "mo_sin_old_rev_tl_op           67528\n",
       "mo_sin_rcnt_rev_tl_op          67528\n",
       "mo_sin_rcnt_tl                 67527\n",
       "mort_acc                       47281\n",
       "mths_since_recent_bc           59032\n",
       "mths_since_recent_inq         179428\n",
       "num_accts_ever_120_pd          67527\n",
       "num_actv_bc_tl                 67527\n",
       "num_actv_rev_tl                67527\n",
       "num_bc_sats                    55841\n",
       "num_bc_tl                      67527\n",
       "num_il_tl                      67527\n",
       "num_op_rev_tl                  67527\n",
       "num_rev_accts                  67528\n",
       "num_rev_tl_bal_gt_0            67527\n",
       "num_sats                       55841\n",
       "num_tl_120dpd_2m              116250\n",
       "num_tl_30dpd                   67527\n",
       "num_tl_90g_dpd_24m             67527\n",
       "num_tl_op_past_12m             67527\n",
       "pct_tl_nvr_dlq                 67680\n",
       "percent_bc_gt_75               60275\n",
       "pub_rec_bankruptcies             697\n",
       "tax_liens                         39\n",
       "tot_hi_cred_lim                67527\n",
       "total_bal_ex_mort              47281\n",
       "total_bc_limit                 47281\n",
       "total_il_high_credit_limit     67527\n",
       "dtype: int64"
      ]
     },
     "execution_count": 8,
     "metadata": {},
     "output_type": "execute_result"
    }
   ],
   "source": [
    "# List of empty data within columns\n",
    "lend.isnull().sum()"
   ]
  },
  {
   "cell_type": "markdown",
   "metadata": {},
   "source": [
    "### Clearing all NaN values from columns above"
   ]
  },
  {
   "cell_type": "code",
   "execution_count": 9,
   "metadata": {
    "collapsed": true
   },
   "outputs": [],
   "source": [
    "lend = lend[pd.notnull(lend.tot_cur_bal)]"
   ]
  },
  {
   "cell_type": "code",
   "execution_count": 10,
   "metadata": {
    "collapsed": true
   },
   "outputs": [],
   "source": [
    "lend = lend[pd.notnull(lend.mo_sin_old_il_acct)]"
   ]
  },
  {
   "cell_type": "code",
   "execution_count": 11,
   "metadata": {
    "collapsed": true
   },
   "outputs": [],
   "source": [
    "lend = lend[pd.notnull(lend.mths_since_recent_inq)]"
   ]
  },
  {
   "cell_type": "code",
   "execution_count": 12,
   "metadata": {
    "collapsed": true
   },
   "outputs": [],
   "source": [
    "lend = lend[pd.notnull(lend.num_tl_120dpd_2m)]"
   ]
  },
  {
   "cell_type": "code",
   "execution_count": 13,
   "metadata": {
    "collapsed": true
   },
   "outputs": [],
   "source": [
    "lend = lend[pd.notnull(lend.bc_util)]"
   ]
  },
  {
   "cell_type": "code",
   "execution_count": 14,
   "metadata": {
    "collapsed": true
   },
   "outputs": [],
   "source": [
    "lend = lend[pd.notnull(lend.pct_tl_nvr_dlq)]"
   ]
  },
  {
   "cell_type": "code",
   "execution_count": 15,
   "metadata": {
    "collapsed": true
   },
   "outputs": [],
   "source": [
    "lend = lend[pd.notnull(lend.last_credit_pull_d)]"
   ]
  },
  {
   "cell_type": "code",
   "execution_count": 16,
   "metadata": {
    "collapsed": true
   },
   "outputs": [],
   "source": [
    "lend = lend[pd.notnull(lend.mths_since_recent_bc)]"
   ]
  },
  {
   "cell_type": "code",
   "execution_count": 17,
   "metadata": {
    "collapsed": true
   },
   "outputs": [],
   "source": [
    "lend = lend[pd.notnull(lend.num_rev_accts)]"
   ]
  },
  {
   "cell_type": "code",
   "execution_count": 18,
   "metadata": {
    "collapsed": true
   },
   "outputs": [],
   "source": [
    "lend = lend[pd.notnull(lend.inq_last_6mths)]"
   ]
  },
  {
   "cell_type": "code",
   "execution_count": 19,
   "metadata": {},
   "outputs": [
    {
     "data": {
      "text/plain": [
       "loan_amnt                     False\n",
       "int_rate                      False\n",
       "grade                         False\n",
       "home_ownership                False\n",
       "annual_inc                    False\n",
       "loan_status                   False\n",
       "dti                           False\n",
       "delinq_2yrs                   False\n",
       "inq_last_6mths                False\n",
       "open_acc                      False\n",
       "pub_rec                       False\n",
       "revol_bal                     False\n",
       "revol_util                    False\n",
       "total_acc                     False\n",
       "last_credit_pull_d            False\n",
       "collections_12_mths_ex_med    False\n",
       "acc_now_delinq                False\n",
       "tot_cur_bal                   False\n",
       "total_rev_hi_lim              False\n",
       "acc_open_past_24mths          False\n",
       "avg_cur_bal                   False\n",
       "bc_open_to_buy                False\n",
       "bc_util                       False\n",
       "chargeoff_within_12_mths      False\n",
       "delinq_amnt                   False\n",
       "mo_sin_old_il_acct            False\n",
       "mo_sin_old_rev_tl_op          False\n",
       "mo_sin_rcnt_rev_tl_op         False\n",
       "mo_sin_rcnt_tl                False\n",
       "mort_acc                      False\n",
       "mths_since_recent_bc          False\n",
       "mths_since_recent_inq         False\n",
       "num_accts_ever_120_pd         False\n",
       "num_actv_bc_tl                False\n",
       "num_actv_rev_tl               False\n",
       "num_bc_sats                   False\n",
       "num_bc_tl                     False\n",
       "num_il_tl                     False\n",
       "num_op_rev_tl                 False\n",
       "num_rev_accts                 False\n",
       "num_rev_tl_bal_gt_0           False\n",
       "num_sats                      False\n",
       "num_tl_120dpd_2m              False\n",
       "num_tl_30dpd                  False\n",
       "num_tl_90g_dpd_24m            False\n",
       "num_tl_op_past_12m            False\n",
       "pct_tl_nvr_dlq                False\n",
       "percent_bc_gt_75              False\n",
       "pub_rec_bankruptcies          False\n",
       "tax_liens                     False\n",
       "tot_hi_cred_lim               False\n",
       "total_bal_ex_mort             False\n",
       "total_bc_limit                False\n",
       "total_il_high_credit_limit    False\n",
       "dtype: bool"
      ]
     },
     "execution_count": 19,
     "metadata": {},
     "output_type": "execute_result"
    }
   ],
   "source": [
    "lend.isnull().any()"
   ]
  },
  {
   "cell_type": "code",
   "execution_count": 20,
   "metadata": {},
   "outputs": [
    {
     "data": {
      "text/plain": [
       "(1034852, 54)"
      ]
     },
     "execution_count": 20,
     "metadata": {},
     "output_type": "execute_result"
    }
   ],
   "source": [
    "# Files has dropped due to the NaN files\n",
    "lend.shape"
   ]
  },
  {
   "cell_type": "markdown",
   "metadata": {},
   "source": [
    "### Loan status categories"
   ]
  },
  {
   "cell_type": "code",
   "execution_count": 21,
   "metadata": {},
   "outputs": [
    {
     "data": {
      "text/plain": [
       "Current               618522\n",
       "Fully Paid            305152\n",
       "Charged Off            81593\n",
       "Late (31-120 days)     16335\n",
       "In Grace Period         9420\n",
       "Late (16-30 days)       3369\n",
       "Default                  461\n",
       "Name: loan_status, dtype: int64"
      ]
     },
     "execution_count": 21,
     "metadata": {},
     "output_type": "execute_result"
    }
   ],
   "source": [
    "lend.loan_status.value_counts()"
   ]
  },
  {
   "cell_type": "markdown",
   "metadata": {},
   "source": [
    "### Dropping all \"Current\" status loans since the outcome is unknown"
   ]
  },
  {
   "cell_type": "code",
   "execution_count": 22,
   "metadata": {
    "collapsed": true
   },
   "outputs": [],
   "source": [
    "lend = lend[lend.loan_status != 'Current']"
   ]
  },
  {
   "cell_type": "code",
   "execution_count": 23,
   "metadata": {},
   "outputs": [
    {
     "data": {
      "text/plain": [
       "(416330, 54)"
      ]
     },
     "execution_count": 23,
     "metadata": {},
     "output_type": "execute_result"
    }
   ],
   "source": [
    "# Note the drop in rows, by 58%\n",
    "lend.shape"
   ]
  },
  {
   "cell_type": "markdown",
   "metadata": {},
   "source": [
    "### Home ownership categories"
   ]
  },
  {
   "cell_type": "code",
   "execution_count": 24,
   "metadata": {},
   "outputs": [
    {
     "data": {
      "text/plain": [
       "MORTGAGE    216731\n",
       "RENT        158798\n",
       "OWN          40733\n",
       "OTHER           35\n",
       "NONE            28\n",
       "ANY              5\n",
       "Name: home_ownership, dtype: int64"
      ]
     },
     "execution_count": 24,
     "metadata": {},
     "output_type": "execute_result"
    }
   ],
   "source": [
    "lend.home_ownership.value_counts()"
   ]
  },
  {
   "cell_type": "markdown",
   "metadata": {},
   "source": [
    "### Dropping \"other\", \"none\", and \"any\" categories and creating dummy variables of remaning variables"
   ]
  },
  {
   "cell_type": "code",
   "execution_count": 25,
   "metadata": {
    "collapsed": true
   },
   "outputs": [],
   "source": [
    "lend = lend[lend.home_ownership != 'OTHER']\n",
    "lend = lend[lend.home_ownership != 'NONE']\n",
    "lend = lend[lend.home_ownership != 'ANY']\n",
    "lend_home = pd.get_dummies(lend['home_ownership'],prefix='home',drop_first=True)\n",
    "lend = pd.concat([lend, lend_home], axis=1)\n",
    "lend = lend.drop('home_ownership', axis=1)"
   ]
  },
  {
   "cell_type": "markdown",
   "metadata": {},
   "source": [
    "### Converting the \"Grade\" status as an ordinal variable"
   ]
  },
  {
   "cell_type": "code",
   "execution_count": 26,
   "metadata": {
    "collapsed": true
   },
   "outputs": [],
   "source": [
    "lend['grade_ord'] = lend.grade.map({'A': 1,\n",
    "                                    'B': 2,\n",
    "                                    'C': 3,\n",
    "                                    'D': 4,\n",
    "                                    'E': 5,\n",
    "                                    'F': 6,\n",
    "                                    'G': 7})\n",
    "\n",
    "lend = lend.drop('grade', axis=1)"
   ]
  },
  {
   "cell_type": "markdown",
   "metadata": {},
   "source": [
    "### Cleaning the \"revol_util\", \"dti\", and \"bc_util\" columns and exluding erroneous values over 100%"
   ]
  },
  {
   "cell_type": "code",
   "execution_count": 27,
   "metadata": {
    "collapsed": true
   },
   "outputs": [],
   "source": [
    "lend.loc[:, 'revol_util'] = lend['revol_util'].str.split('%').apply(lambda x: x[0])\n",
    "lend['revol_util'] = lend['revol_util'].astype(float)"
   ]
  },
  {
   "cell_type": "code",
   "execution_count": 28,
   "metadata": {
    "collapsed": true
   },
   "outputs": [],
   "source": [
    "lend = lend[lend['bc_util'] <= 100]\n",
    "lend = lend[lend['dti'] <= 100]\n",
    "lend = lend[lend['revol_util'] <= 100]"
   ]
  },
  {
   "cell_type": "markdown",
   "metadata": {},
   "source": [
    "### Converting select columns into log values"
   ]
  },
  {
   "cell_type": "code",
   "execution_count": 29,
   "metadata": {
    "collapsed": true
   },
   "outputs": [],
   "source": [
    "lend.avg_cur_bal = lend.avg_cur_bal.replace('0', 1)\n",
    "lend['log_avg_cur_bal'] = lend.avg_cur_bal.copy()\n",
    "lend.log_avg_cur_bal = np.log(lend.avg_cur_bal)\n",
    "\n",
    "lend.bc_open_to_buy = lend.bc_open_to_buy.replace('0', 1)\n",
    "lend['log_bc_open_to_buy'] = lend.bc_open_to_buy.copy()\n",
    "lend.log_bc_open_to_buy = np.log(lend.bc_open_to_buy)\n",
    "\n",
    "lend.delinq_amnt = lend.delinq_amnt.replace('0', 1)\n",
    "lend['log_delinq_amnt'] = lend.delinq_amnt.copy()\n",
    "lend.log_delinq_amnt = np.log(lend.delinq_amnt)\n",
    "\n",
    "lend.total_bal_ex_mort = lend.total_bal_ex_mort.replace('0', 1)\n",
    "lend['log_total_bal_ex_mort'] = lend.total_bal_ex_mort.copy()\n",
    "lend.log_total_bal_ex_mort = np.log(lend.total_bal_ex_mort)\n",
    "\n",
    "lend.total_il_high_credit_limit = lend.total_il_high_credit_limit.replace('0', 1)\n",
    "lend['log_total_il_high_credit_limit'] = lend.total_il_high_credit_limit.copy()\n",
    "lend.log_total_il_high_credit_limit = np.log(lend.total_il_high_credit_limit)\n",
    "\n",
    "lend.annual_inc = lend.annual_inc.replace('0', 1)\n",
    "lend['log_annual_inc'] = lend.annual_inc.copy()\n",
    "lend.log_annual_inc = np.log(lend.annual_inc)\n",
    "\n",
    "lend.tot_cur_bal = lend.tot_cur_bal.replace('0', 1)\n",
    "lend['log_tot_cur_bal'] = lend.tot_cur_bal.copy()\n",
    "lend.log_tot_cur_bal = np.log(lend.tot_cur_bal)\n",
    "\n",
    "lend.revol_bal = lend.revol_bal.replace('0', 1)\n",
    "lend['log_revol_bal'] = lend.revol_bal.copy()\n",
    "lend.log_revol_bal = np.log(lend.revol_bal)\n",
    "\n",
    "lend.delinq_amnt = lend.delinq_amnt.replace('0', 1)\n",
    "lend['log_delinq_amnt'] = lend.delinq_amnt.copy()\n",
    "lend.log_delinq_amnt = np.log(lend.delinq_amnt)\n",
    "\n",
    "lend['log_total_rev_hi_lim'] = lend.total_rev_hi_lim.copy()\n",
    "lend.log_total_rev_hi_lim = np.log(lend.total_rev_hi_lim)\n",
    "\n",
    "lend['tot_hi_cred_lim'] = lend.tot_hi_cred_lim.copy()\n",
    "lend.log_tot_hi_cred_lim = np.log(lend.tot_hi_cred_lim)\n",
    "\n",
    "lend['log_total_bc_limit'] = lend.total_bc_limit.copy()\n",
    "lend.log_total_bc_limit = np.log(lend.total_bc_limit)"
   ]
  },
  {
   "cell_type": "markdown",
   "metadata": {},
   "source": [
    "### Deleting outliers from select features"
   ]
  },
  {
   "cell_type": "code",
   "execution_count": 30,
   "metadata": {
    "collapsed": true
   },
   "outputs": [],
   "source": [
    "lend = lend[((lend.total_rev_hi_lim - lend.total_rev_hi_lim.mean()) / lend.total_rev_hi_lim.std()).abs() < 5]"
   ]
  },
  {
   "cell_type": "code",
   "execution_count": 31,
   "metadata": {
    "collapsed": true
   },
   "outputs": [],
   "source": [
    "lend = lend[((lend.tot_cur_bal - lend.tot_cur_bal.mean()) / lend.tot_cur_bal.std()).abs() < 6]"
   ]
  },
  {
   "cell_type": "code",
   "execution_count": 32,
   "metadata": {
    "collapsed": true
   },
   "outputs": [],
   "source": [
    "lend = lend[((lend.tot_hi_cred_lim - lend.tot_hi_cred_lim.mean()) / lend.tot_hi_cred_lim.std()).abs() < 6]"
   ]
  },
  {
   "cell_type": "code",
   "execution_count": 33,
   "metadata": {
    "collapsed": true
   },
   "outputs": [],
   "source": [
    "lend = lend[((lend.total_bc_limit - lend.total_bc_limit.mean()) / lend.total_bc_limit.std()).abs() < 6]"
   ]
  },
  {
   "cell_type": "code",
   "execution_count": 34,
   "metadata": {
    "collapsed": true
   },
   "outputs": [],
   "source": [
    "lend = lend[((lend.bc_open_to_buy - lend.bc_open_to_buy.mean()) / lend.bc_open_to_buy.std()).abs() < 6]"
   ]
  },
  {
   "cell_type": "code",
   "execution_count": 35,
   "metadata": {
    "collapsed": true
   },
   "outputs": [],
   "source": [
    "lend = lend[((lend.revol_bal - lend.revol_bal.mean()) / lend.revol_bal.std()).abs() < 6]"
   ]
  },
  {
   "cell_type": "code",
   "execution_count": 36,
   "metadata": {
    "collapsed": true
   },
   "outputs": [],
   "source": [
    "lend = lend[((lend.total_il_high_credit_limit - lend.total_il_high_credit_limit.mean()) / lend.total_il_high_credit_limit.std()).abs() < 6]"
   ]
  },
  {
   "cell_type": "code",
   "execution_count": 37,
   "metadata": {
    "collapsed": true
   },
   "outputs": [],
   "source": [
    "lend = lend[((lend.avg_cur_bal - lend.avg_cur_bal.mean()) / lend.avg_cur_bal.std()).abs() < 6]"
   ]
  },
  {
   "cell_type": "code",
   "execution_count": 38,
   "metadata": {
    "collapsed": true
   },
   "outputs": [],
   "source": [
    "lend = lend[((lend.annual_inc - lend.annual_inc.mean()) / lend.annual_inc.std()).abs() < 6]"
   ]
  },
  {
   "cell_type": "markdown",
   "metadata": {},
   "source": [
    "### Assigning binary variables to loan status column, 0 = good performing and 1 = bad performing loans"
   ]
  },
  {
   "cell_type": "code",
   "execution_count": 39,
   "metadata": {
    "collapsed": true
   },
   "outputs": [],
   "source": [
    "lend['status_group'] = lend.loan_status.map({\n",
    "    'Fully Paid': 0,\n",
    "    'Charged Off': 1,\n",
    "    'Late (31-120 days)': 1,\n",
    "    'In Grace Period': 1,\n",
    "    'Late (16-30 days)': 1,\n",
    "    'Default': 1,})\n",
    "\n",
    "lend = lend.drop('loan_status', axis=1)"
   ]
  },
  {
   "cell_type": "markdown",
   "metadata": {},
   "source": [
    "### Finalized clean dataset"
   ]
  },
  {
   "cell_type": "code",
   "execution_count": 40,
   "metadata": {},
   "outputs": [
    {
     "data": {
      "text/html": [
       "<div>\n",
       "<table border=\"1\" class=\"dataframe\">\n",
       "  <thead>\n",
       "    <tr style=\"text-align: right;\">\n",
       "      <th></th>\n",
       "      <th>loan_amnt</th>\n",
       "      <th>int_rate</th>\n",
       "      <th>annual_inc</th>\n",
       "      <th>dti</th>\n",
       "      <th>delinq_2yrs</th>\n",
       "      <th>inq_last_6mths</th>\n",
       "      <th>open_acc</th>\n",
       "      <th>pub_rec</th>\n",
       "      <th>revol_bal</th>\n",
       "      <th>revol_util</th>\n",
       "      <th>...</th>\n",
       "      <th>log_bc_open_to_buy</th>\n",
       "      <th>log_delinq_amnt</th>\n",
       "      <th>log_total_bal_ex_mort</th>\n",
       "      <th>log_total_il_high_credit_limit</th>\n",
       "      <th>log_annual_inc</th>\n",
       "      <th>log_tot_cur_bal</th>\n",
       "      <th>log_revol_bal</th>\n",
       "      <th>log_total_rev_hi_lim</th>\n",
       "      <th>log_total_bc_limit</th>\n",
       "      <th>status_group</th>\n",
       "    </tr>\n",
       "  </thead>\n",
       "  <tbody>\n",
       "    <tr>\n",
       "      <th>58729</th>\n",
       "      <td>20000</td>\n",
       "      <td>7.90%</td>\n",
       "      <td>63648.0</td>\n",
       "      <td>12.68</td>\n",
       "      <td>2</td>\n",
       "      <td>0.0</td>\n",
       "      <td>18</td>\n",
       "      <td>0</td>\n",
       "      <td>17257</td>\n",
       "      <td>48.5</td>\n",
       "      <td>...</td>\n",
       "      <td>8.263848</td>\n",
       "      <td>0.0</td>\n",
       "      <td>10.416161</td>\n",
       "      <td>9.926813</td>\n",
       "      <td>11.061123</td>\n",
       "      <td>12.522728</td>\n",
       "      <td>9.755973</td>\n",
       "      <td>10.480101</td>\n",
       "      <td>9.928180</td>\n",
       "      <td>0</td>\n",
       "    </tr>\n",
       "    <tr>\n",
       "      <th>161324</th>\n",
       "      <td>20000</td>\n",
       "      <td>11.14%</td>\n",
       "      <td>68000.0</td>\n",
       "      <td>7.16</td>\n",
       "      <td>0</td>\n",
       "      <td>0.0</td>\n",
       "      <td>9</td>\n",
       "      <td>0</td>\n",
       "      <td>19866</td>\n",
       "      <td>51.2</td>\n",
       "      <td>...</td>\n",
       "      <td>8.714568</td>\n",
       "      <td>0.0</td>\n",
       "      <td>9.896765</td>\n",
       "      <td>0.000000</td>\n",
       "      <td>11.127263</td>\n",
       "      <td>11.860684</td>\n",
       "      <td>9.896765</td>\n",
       "      <td>10.566176</td>\n",
       "      <td>10.146434</td>\n",
       "      <td>0</td>\n",
       "    </tr>\n",
       "    <tr>\n",
       "      <th>279410</th>\n",
       "      <td>7475</td>\n",
       "      <td>13.98%</td>\n",
       "      <td>31000.0</td>\n",
       "      <td>23.07</td>\n",
       "      <td>0</td>\n",
       "      <td>0.0</td>\n",
       "      <td>15</td>\n",
       "      <td>0</td>\n",
       "      <td>13035</td>\n",
       "      <td>38.9</td>\n",
       "      <td>...</td>\n",
       "      <td>9.586377</td>\n",
       "      <td>0.0</td>\n",
       "      <td>10.103485</td>\n",
       "      <td>10.106551</td>\n",
       "      <td>10.341742</td>\n",
       "      <td>11.775674</td>\n",
       "      <td>9.475393</td>\n",
       "      <td>10.419301</td>\n",
       "      <td>10.225571</td>\n",
       "      <td>0</td>\n",
       "    </tr>\n",
       "    <tr>\n",
       "      <th>117673</th>\n",
       "      <td>10800</td>\n",
       "      <td>16.78%</td>\n",
       "      <td>61000.0</td>\n",
       "      <td>18.16</td>\n",
       "      <td>0</td>\n",
       "      <td>1.0</td>\n",
       "      <td>8</td>\n",
       "      <td>1</td>\n",
       "      <td>10311</td>\n",
       "      <td>63.3</td>\n",
       "      <td>...</td>\n",
       "      <td>5.613128</td>\n",
       "      <td>0.0</td>\n",
       "      <td>10.488158</td>\n",
       "      <td>10.548494</td>\n",
       "      <td>11.018629</td>\n",
       "      <td>10.488158</td>\n",
       "      <td>9.240967</td>\n",
       "      <td>9.698920</td>\n",
       "      <td>9.104980</td>\n",
       "      <td>0</td>\n",
       "    </tr>\n",
       "    <tr>\n",
       "      <th>108634</th>\n",
       "      <td>17625</td>\n",
       "      <td>7.90%</td>\n",
       "      <td>45000.0</td>\n",
       "      <td>5.89</td>\n",
       "      <td>1</td>\n",
       "      <td>0.0</td>\n",
       "      <td>5</td>\n",
       "      <td>0</td>\n",
       "      <td>12804</td>\n",
       "      <td>43.1</td>\n",
       "      <td>...</td>\n",
       "      <td>8.279951</td>\n",
       "      <td>0.0</td>\n",
       "      <td>9.457513</td>\n",
       "      <td>0.000000</td>\n",
       "      <td>10.714418</td>\n",
       "      <td>12.457846</td>\n",
       "      <td>9.457513</td>\n",
       "      <td>10.299172</td>\n",
       "      <td>9.180706</td>\n",
       "      <td>0</td>\n",
       "    </tr>\n",
       "  </tbody>\n",
       "</table>\n",
       "<p>5 rows × 65 columns</p>\n",
       "</div>"
      ],
      "text/plain": [
       "        loan_amnt int_rate  annual_inc    dti  delinq_2yrs  inq_last_6mths  \\\n",
       "58729       20000    7.90%     63648.0  12.68            2             0.0   \n",
       "161324      20000   11.14%     68000.0   7.16            0             0.0   \n",
       "279410       7475   13.98%     31000.0  23.07            0             0.0   \n",
       "117673      10800   16.78%     61000.0  18.16            0             1.0   \n",
       "108634      17625    7.90%     45000.0   5.89            1             0.0   \n",
       "\n",
       "        open_acc  pub_rec  revol_bal  revol_util      ...       \\\n",
       "58729         18        0      17257        48.5      ...        \n",
       "161324         9        0      19866        51.2      ...        \n",
       "279410        15        0      13035        38.9      ...        \n",
       "117673         8        1      10311        63.3      ...        \n",
       "108634         5        0      12804        43.1      ...        \n",
       "\n",
       "        log_bc_open_to_buy log_delinq_amnt  log_total_bal_ex_mort  \\\n",
       "58729             8.263848             0.0              10.416161   \n",
       "161324            8.714568             0.0               9.896765   \n",
       "279410            9.586377             0.0              10.103485   \n",
       "117673            5.613128             0.0              10.488158   \n",
       "108634            8.279951             0.0               9.457513   \n",
       "\n",
       "        log_total_il_high_credit_limit  log_annual_inc  log_tot_cur_bal  \\\n",
       "58729                         9.926813       11.061123        12.522728   \n",
       "161324                        0.000000       11.127263        11.860684   \n",
       "279410                       10.106551       10.341742        11.775674   \n",
       "117673                       10.548494       11.018629        10.488158   \n",
       "108634                        0.000000       10.714418        12.457846   \n",
       "\n",
       "        log_revol_bal  log_total_rev_hi_lim  log_total_bc_limit  status_group  \n",
       "58729        9.755973             10.480101            9.928180             0  \n",
       "161324       9.896765             10.566176           10.146434             0  \n",
       "279410       9.475393             10.419301           10.225571             0  \n",
       "117673       9.240967              9.698920            9.104980             0  \n",
       "108634       9.457513             10.299172            9.180706             0  \n",
       "\n",
       "[5 rows x 65 columns]"
      ]
     },
     "execution_count": 40,
     "metadata": {},
     "output_type": "execute_result"
    }
   ],
   "source": [
    "lend.sample(5)"
   ]
  },
  {
   "cell_type": "code",
   "execution_count": 41,
   "metadata": {},
   "outputs": [
    {
     "data": {
      "text/plain": [
       "(400489, 65)"
      ]
     },
     "execution_count": 41,
     "metadata": {},
     "output_type": "execute_result"
    }
   ],
   "source": [
    "lend.shape"
   ]
  },
  {
   "cell_type": "markdown",
   "metadata": {},
   "source": [
    "### Exporting cleaned dataset as a .csv file"
   ]
  },
  {
   "cell_type": "code",
   "execution_count": null,
   "metadata": {
    "collapsed": true
   },
   "outputs": [],
   "source": [
    "%%time\n",
    "lend.to_csv('aug2018lend.csv')"
   ]
  }
 ],
 "metadata": {
  "kernelspec": {
   "display_name": "Python 2",
   "language": "python",
   "name": "python2"
  },
  "language_info": {
   "codemirror_mode": {
    "name": "ipython",
    "version": 2
   },
   "file_extension": ".py",
   "mimetype": "text/x-python",
   "name": "python",
   "nbconvert_exporter": "python",
   "pygments_lexer": "ipython2",
   "version": "2.7.14"
  }
 },
 "nbformat": 4,
 "nbformat_minor": 2
}
