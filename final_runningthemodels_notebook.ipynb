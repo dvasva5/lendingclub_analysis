{
 "cells": [
  {
   "cell_type": "markdown",
   "metadata": {},
   "source": [
    "## Running the Models"
   ]
  },
  {
   "cell_type": "markdown",
   "metadata": {},
   "source": [
    "### Loading the required packages"
   ]
  },
  {
   "cell_type": "code",
   "execution_count": 2,
   "metadata": {
    "collapsed": true
   },
   "outputs": [],
   "source": [
    "# import numpy as np\n",
    "import pandas as pd\n",
    "import matplotlib.pyplot as plt\n",
    "import seaborn as sns\n",
    "import os\n",
    "import glob\n",
    "from pandas import DataFrame\n",
    "from IPython.display import HTML\n",
    "%matplotlib inline"
   ]
  },
  {
   "cell_type": "markdown",
   "metadata": {},
   "source": [
    "### Viewing a sample of the dataset and features"
   ]
  },
  {
   "cell_type": "code",
   "execution_count": 3,
   "metadata": {
    "collapsed": true
   },
   "outputs": [],
   "source": [
    "lend = pd.read_csv('/Users/dennisvasquez/Downloads/aug2018lend.csv')"
   ]
  },
  {
   "cell_type": "code",
   "execution_count": 6,
   "metadata": {},
   "outputs": [],
   "source": [
    "lend = lend.drop('Unnamed: 0' , axis=1);"
   ]
  },
  {
   "cell_type": "code",
   "execution_count": 7,
   "metadata": {},
   "outputs": [
    {
     "data": {
      "text/html": [
       "<div>\n",
       "<table border=\"1\" class=\"dataframe\">\n",
       "  <thead>\n",
       "    <tr style=\"text-align: right;\">\n",
       "      <th></th>\n",
       "      <th>loan_amnt</th>\n",
       "      <th>int_rate</th>\n",
       "      <th>annual_inc</th>\n",
       "      <th>dti</th>\n",
       "      <th>delinq_2yrs</th>\n",
       "      <th>inq_last_6mths</th>\n",
       "      <th>open_acc</th>\n",
       "      <th>pub_rec</th>\n",
       "      <th>revol_bal</th>\n",
       "      <th>revol_util</th>\n",
       "      <th>...</th>\n",
       "      <th>log_bc_open_to_buy</th>\n",
       "      <th>log_delinq_amnt</th>\n",
       "      <th>log_total_bal_ex_mort</th>\n",
       "      <th>log_total_il_high_credit_limit</th>\n",
       "      <th>log_annual_inc</th>\n",
       "      <th>log_tot_cur_bal</th>\n",
       "      <th>log_revol_bal</th>\n",
       "      <th>log_total_rev_hi_lim</th>\n",
       "      <th>log_total_bc_limit</th>\n",
       "      <th>status_group</th>\n",
       "    </tr>\n",
       "  </thead>\n",
       "  <tbody>\n",
       "    <tr>\n",
       "      <th>0</th>\n",
       "      <td>28000</td>\n",
       "      <td>7.62%</td>\n",
       "      <td>325000.0</td>\n",
       "      <td>18.55</td>\n",
       "      <td>0</td>\n",
       "      <td>1.0</td>\n",
       "      <td>15</td>\n",
       "      <td>0</td>\n",
       "      <td>29581</td>\n",
       "      <td>54.6</td>\n",
       "      <td>...</td>\n",
       "      <td>9.539716</td>\n",
       "      <td>0.0</td>\n",
       "      <td>12.204767</td>\n",
       "      <td>12.189364</td>\n",
       "      <td>12.691580</td>\n",
       "      <td>13.591857</td>\n",
       "      <td>10.294888</td>\n",
       "      <td>10.900436</td>\n",
       "      <td>10.650176</td>\n",
       "      <td>0</td>\n",
       "    </tr>\n",
       "    <tr>\n",
       "      <th>1</th>\n",
       "      <td>15000</td>\n",
       "      <td>14.47%</td>\n",
       "      <td>98000.0</td>\n",
       "      <td>6.15</td>\n",
       "      <td>0</td>\n",
       "      <td>2.0</td>\n",
       "      <td>16</td>\n",
       "      <td>0</td>\n",
       "      <td>5749</td>\n",
       "      <td>22.3</td>\n",
       "      <td>...</td>\n",
       "      <td>9.619200</td>\n",
       "      <td>0.0</td>\n",
       "      <td>9.475623</td>\n",
       "      <td>8.922658</td>\n",
       "      <td>11.492723</td>\n",
       "      <td>9.475623</td>\n",
       "      <td>8.656781</td>\n",
       "      <td>10.158130</td>\n",
       "      <td>9.942708</td>\n",
       "      <td>0</td>\n",
       "    </tr>\n",
       "    <tr>\n",
       "      <th>2</th>\n",
       "      <td>12000</td>\n",
       "      <td>13.53%</td>\n",
       "      <td>40000.0</td>\n",
       "      <td>16.94</td>\n",
       "      <td>0</td>\n",
       "      <td>0.0</td>\n",
       "      <td>7</td>\n",
       "      <td>2</td>\n",
       "      <td>5572</td>\n",
       "      <td>68.8</td>\n",
       "      <td>...</td>\n",
       "      <td>7.264030</td>\n",
       "      <td>0.0</td>\n",
       "      <td>9.518193</td>\n",
       "      <td>9.213336</td>\n",
       "      <td>10.596635</td>\n",
       "      <td>9.518193</td>\n",
       "      <td>8.625509</td>\n",
       "      <td>8.999619</td>\n",
       "      <td>8.853665</td>\n",
       "      <td>0</td>\n",
       "    </tr>\n",
       "    <tr>\n",
       "      <th>3</th>\n",
       "      <td>12000</td>\n",
       "      <td>6.62%</td>\n",
       "      <td>105000.0</td>\n",
       "      <td>14.05</td>\n",
       "      <td>0</td>\n",
       "      <td>1.0</td>\n",
       "      <td>12</td>\n",
       "      <td>0</td>\n",
       "      <td>13168</td>\n",
       "      <td>21.6</td>\n",
       "      <td>...</td>\n",
       "      <td>10.582333</td>\n",
       "      <td>0.0</td>\n",
       "      <td>10.659680</td>\n",
       "      <td>10.663569</td>\n",
       "      <td>11.561716</td>\n",
       "      <td>12.497420</td>\n",
       "      <td>9.485545</td>\n",
       "      <td>11.020267</td>\n",
       "      <td>10.870471</td>\n",
       "      <td>0</td>\n",
       "    </tr>\n",
       "    <tr>\n",
       "      <th>4</th>\n",
       "      <td>20800</td>\n",
       "      <td>13.53%</td>\n",
       "      <td>81500.0</td>\n",
       "      <td>16.73</td>\n",
       "      <td>0</td>\n",
       "      <td>2.0</td>\n",
       "      <td>29</td>\n",
       "      <td>0</td>\n",
       "      <td>23473</td>\n",
       "      <td>54.5</td>\n",
       "      <td>...</td>\n",
       "      <td>8.826294</td>\n",
       "      <td>0.0</td>\n",
       "      <td>10.063606</td>\n",
       "      <td>0.000000</td>\n",
       "      <td>11.308358</td>\n",
       "      <td>10.063606</td>\n",
       "      <td>10.063606</td>\n",
       "      <td>10.671278</td>\n",
       "      <td>9.615805</td>\n",
       "      <td>0</td>\n",
       "    </tr>\n",
       "  </tbody>\n",
       "</table>\n",
       "<p>5 rows × 65 columns</p>\n",
       "</div>"
      ],
      "text/plain": [
       "   loan_amnt int_rate  annual_inc    dti  delinq_2yrs  inq_last_6mths  \\\n",
       "0      28000    7.62%    325000.0  18.55            0             1.0   \n",
       "1      15000   14.47%     98000.0   6.15            0             2.0   \n",
       "2      12000   13.53%     40000.0  16.94            0             0.0   \n",
       "3      12000    6.62%    105000.0  14.05            0             1.0   \n",
       "4      20800   13.53%     81500.0  16.73            0             2.0   \n",
       "\n",
       "   open_acc  pub_rec  revol_bal  revol_util      ...       log_bc_open_to_buy  \\\n",
       "0        15        0      29581        54.6      ...                 9.539716   \n",
       "1        16        0       5749        22.3      ...                 9.619200   \n",
       "2         7        2       5572        68.8      ...                 7.264030   \n",
       "3        12        0      13168        21.6      ...                10.582333   \n",
       "4        29        0      23473        54.5      ...                 8.826294   \n",
       "\n",
       "  log_delinq_amnt  log_total_bal_ex_mort  log_total_il_high_credit_limit  \\\n",
       "0             0.0              12.204767                       12.189364   \n",
       "1             0.0               9.475623                        8.922658   \n",
       "2             0.0               9.518193                        9.213336   \n",
       "3             0.0              10.659680                       10.663569   \n",
       "4             0.0              10.063606                        0.000000   \n",
       "\n",
       "   log_annual_inc  log_tot_cur_bal  log_revol_bal  log_total_rev_hi_lim  \\\n",
       "0       12.691580        13.591857      10.294888             10.900436   \n",
       "1       11.492723         9.475623       8.656781             10.158130   \n",
       "2       10.596635         9.518193       8.625509              8.999619   \n",
       "3       11.561716        12.497420       9.485545             11.020267   \n",
       "4       11.308358        10.063606      10.063606             10.671278   \n",
       "\n",
       "   log_total_bc_limit  status_group  \n",
       "0           10.650176             0  \n",
       "1            9.942708             0  \n",
       "2            8.853665             0  \n",
       "3           10.870471             0  \n",
       "4            9.615805             0  \n",
       "\n",
       "[5 rows x 65 columns]"
      ]
     },
     "execution_count": 7,
     "metadata": {},
     "output_type": "execute_result"
    }
   ],
   "source": [
    "lend.head(5)"
   ]
  },
  {
   "cell_type": "code",
   "execution_count": 8,
   "metadata": {},
   "outputs": [
    {
     "data": {
      "text/plain": [
       "(400489, 65)"
      ]
     },
     "execution_count": 8,
     "metadata": {},
     "output_type": "execute_result"
    }
   ],
   "source": [
    "lend.shape"
   ]
  },
  {
   "cell_type": "code",
   "execution_count": 53,
   "metadata": {
    "collapsed": true
   },
   "outputs": [],
   "source": [
    "lend_features = [\n",
    "#'loan_amnt',\n",
    "#'grade', # lending club loan grade\n",
    "#'int_rate',\n",
    "#'home_ownership',\n",
    "'annual_inc',\n",
    "#'loan_status',\n",
    "'dti',\n",
    "'delinq_2yrs', # 30dpd delinquencies from past 2 years\n",
    "#'inq_last_6mths', # inquiries since past 6 months\n",
    "'open_acc', # number of open credit lines on file\n",
    "#'pub_rec', # number of derogatory public records\n",
    "'revol_util',\n",
    "'revol_bal',\n",
    "'total_acc', # total number of credit lines currently on file\n",
    "#'last_credit_pull_d', # recent month lendinclub pulled credit\n",
    "##'collections_12_mths_ex_med', # number of collections in 12 months excluding medical collections\n",
    "##'acc_now_delinq',\n",
    "'log_tot_cur_bal',\n",
    "'total_rev_hi_lim',\n",
    "'acc_open_past_24mths',\n",
    "'log_avg_cur_bal',\n",
    "'bc_open_to_buy', # total open-to-buy on revolving bankcards\n",
    "'bc_util', # ratio of current balance to credit limit for all bankcard accounts\n",
    "##'chargeoff_within_12_mths',\n",
    "##'delinq_amnt',\n",
    "'mo_sin_old_il_acct', # months since oldest installment account was opened\n",
    "'mo_sin_old_rev_tl_op',\n",
    "'mo_sin_rcnt_rev_tl_op',\n",
    "'mo_sin_rcnt_tl', # months since most recent account was opened\n",
    "'mort_acc', # number of mortgage accounts\n",
    "'mths_since_recent_bc', # months since recent bankcard account was opened\n",
    "'mths_since_recent_inq',\n",
    "'num_accts_ever_120_pd',\n",
    "'num_actv_bc_tl',\n",
    "'num_actv_rev_tl',\n",
    "'num_bc_sats', # number of satisfactory bankcard accounts\n",
    "'num_bc_tl', # number of bankcard accounts\n",
    "'num_il_tl',\n",
    "'num_op_rev_tl',\n",
    "'num_rev_accts',\n",
    "'num_rev_tl_bal_gt_0', # number of revolving trades with balance >0\n",
    "'num_sats',\n",
    "'num_tl_120dpd_2m', # number of accounts currently 120 dpd\n",
    "'num_tl_30dpd',\n",
    "'num_tl_90g_dpd_24m',\n",
    "'num_tl_op_past_12m',\n",
    "'pct_tl_nvr_dlq', # percent of trades never delinquent\n",
    "'percent_bc_gt_75', # percent of all bankcard accounts >75%\n",
    "'pub_rec_bankruptcies',\n",
    "'tax_liens',\n",
    "'tot_hi_cred_lim',\n",
    "'total_bal_ex_mort',\n",
    "#'total_bc_limit',\n",
    "'log_total_bc_limit',\n",
    "'total_il_high_credit_limit',\n",
    "]\n",
    "\n",
    "X = lend[lend_features]\n",
    "y = lend.status_group"
   ]
  },
  {
   "cell_type": "markdown",
   "metadata": {},
   "source": [
    "### Splitting and scaling the training and testing dataset"
   ]
  },
  {
   "cell_type": "code",
   "execution_count": 54,
   "metadata": {
    "collapsed": true
   },
   "outputs": [],
   "source": [
    "from sklearn.model_selection import train_test_split\n",
    "X_train, X_test, y_train, y_test = train_test_split(X, y)\n",
    "\n",
    "from sklearn.preprocessing import StandardScaler\n",
    "scale = StandardScaler()\n",
    "X_train_scale = scale.fit_transform(X_train)\n",
    "X_test_scale = scale.transform(X_test)"
   ]
  },
  {
   "cell_type": "markdown",
   "metadata": {},
   "source": [
    "### Importing the Logistic Regression Model and tune parameters"
   ]
  },
  {
   "cell_type": "code",
   "execution_count": 55,
   "metadata": {
    "collapsed": true
   },
   "outputs": [],
   "source": [
    "from sklearn.linear_model import LogisticRegression\n",
    "logreg = LogisticRegression(fit_intercept=True, penalty='l1', C=10)"
   ]
  },
  {
   "cell_type": "code",
   "execution_count": 56,
   "metadata": {},
   "outputs": [
    {
     "data": {
      "text/plain": [
       "LogisticRegression(C=10, class_weight=None, dual=False, fit_intercept=True,\n",
       "          intercept_scaling=1, max_iter=100, multi_class='ovr', n_jobs=1,\n",
       "          penalty='l1', random_state=None, solver='liblinear', tol=0.0001,\n",
       "          verbose=0, warm_start=False)"
      ]
     },
     "execution_count": 56,
     "metadata": {},
     "output_type": "execute_result"
    }
   ],
   "source": [
    "logreg.fit(X_train_scale, y_train)"
   ]
  },
  {
   "cell_type": "markdown",
   "metadata": {},
   "source": [
    "### Coefficients and corresponding features"
   ]
  },
  {
   "cell_type": "code",
   "execution_count": 57,
   "metadata": {},
   "outputs": [
    {
     "name": "stdout",
     "output_type": "stream",
     "text": [
      "    coefficients                    features\n",
      "0       0.082464                  annual_inc\n",
      "1       0.361388                         dti\n",
      "2       0.138188                 delinq_2yrs\n",
      "3      -0.028601                    open_acc\n",
      "4       0.081361                  revol_util\n",
      "5      -0.004543                   revol_bal\n",
      "6      -0.047845                   total_acc\n",
      "7      -0.274500             log_tot_cur_bal\n",
      "8      -0.075051            total_rev_hi_lim\n",
      "9       0.173123        acc_open_past_24mths\n",
      "10      0.151521             log_avg_cur_bal\n",
      "11     -0.055587              bc_open_to_buy\n",
      "12     -0.086356                     bc_util\n",
      "13      0.015389          mo_sin_old_il_acct\n",
      "14     -0.021385        mo_sin_old_rev_tl_op\n",
      "15      0.012182       mo_sin_rcnt_rev_tl_op\n",
      "16     -0.025938              mo_sin_rcnt_tl\n",
      "17     -0.075326                    mort_acc\n",
      "18     -0.059234        mths_since_recent_bc\n",
      "19     -0.100989       mths_since_recent_inq\n",
      "20      0.029245       num_accts_ever_120_pd\n",
      "21      0.034538              num_actv_bc_tl\n",
      "22     -0.378808             num_actv_rev_tl\n",
      "23      0.129493                 num_bc_sats\n",
      "24     -0.151287                   num_bc_tl\n",
      "25     -0.062509                   num_il_tl\n",
      "26     -0.073817               num_op_rev_tl\n",
      "27     -0.000878               num_rev_accts\n",
      "28      0.451124         num_rev_tl_bal_gt_0\n",
      "29      0.110199                    num_sats\n",
      "30      0.004730            num_tl_120dpd_2m\n",
      "31      0.020304                num_tl_30dpd\n",
      "32     -0.044868          num_tl_90g_dpd_24m\n",
      "33      0.063029          num_tl_op_past_12m\n",
      "34     -0.031986              pct_tl_nvr_dlq\n",
      "35      0.127904            percent_bc_gt_75\n",
      "36      0.019333        pub_rec_bankruptcies\n",
      "37      0.039923                   tax_liens\n",
      "38     -0.076325             tot_hi_cred_lim\n",
      "39      0.382664           total_bal_ex_mort\n",
      "40     -0.136781          log_total_bc_limit\n",
      "41     -0.369982  total_il_high_credit_limit\n"
     ]
    }
   ],
   "source": [
    "coef = pd.DataFrame({'coefficients': logreg.coef_[0],'features': X.columns})\n",
    "print(coef)"
   ]
  },
  {
   "cell_type": "code",
   "execution_count": 58,
   "metadata": {},
   "outputs": [
    {
     "data": {
      "text/plain": [
       "28    0.451124\n",
       "39    0.382664\n",
       "1     0.361388\n",
       "9     0.173123\n",
       "10    0.151521\n",
       "2     0.138188\n",
       "23    0.129493\n",
       "35    0.127904\n",
       "29    0.110199\n",
       "0     0.082464\n",
       "4     0.081361\n",
       "33    0.063029\n",
       "37    0.039923\n",
       "21    0.034538\n",
       "20    0.029245\n",
       "31    0.020304\n",
       "36    0.019333\n",
       "13    0.015389\n",
       "15    0.012182\n",
       "30    0.004730\n",
       "27   -0.000878\n",
       "5    -0.004543\n",
       "14   -0.021385\n",
       "16   -0.025938\n",
       "3    -0.028601\n",
       "34   -0.031986\n",
       "32   -0.044868\n",
       "6    -0.047845\n",
       "11   -0.055587\n",
       "18   -0.059234\n",
       "25   -0.062509\n",
       "26   -0.073817\n",
       "8    -0.075051\n",
       "17   -0.075326\n",
       "38   -0.076325\n",
       "12   -0.086356\n",
       "19   -0.100989\n",
       "40   -0.136781\n",
       "24   -0.151287\n",
       "7    -0.274500\n",
       "41   -0.369982\n",
       "22   -0.378808\n",
       "Name: coefficients, dtype: float64"
      ]
     },
     "execution_count": 58,
     "metadata": {},
     "output_type": "execute_result"
    }
   ],
   "source": [
    "coef_ord = coef.coefficients.sort_values(ascending=False)\n",
    "coef_ord"
   ]
  },
  {
   "cell_type": "markdown",
   "metadata": {},
   "source": [
    "### Printing the Intercept"
   ]
  },
  {
   "cell_type": "code",
   "execution_count": 59,
   "metadata": {},
   "outputs": [
    {
     "name": "stdout",
     "output_type": "stream",
     "text": [
      "[-1.10027271]\n"
     ]
    }
   ],
   "source": [
    "print(logreg.intercept_)"
   ]
  },
  {
   "cell_type": "markdown",
   "metadata": {},
   "source": [
    "### Storing the predicted results"
   ]
  },
  {
   "cell_type": "code",
   "execution_count": 60,
   "metadata": {
    "collapsed": true
   },
   "outputs": [],
   "source": [
    "y_pred_class = logreg.predict(X_test_scale)"
   ]
  },
  {
   "cell_type": "markdown",
   "metadata": {},
   "source": [
    "### Scoring the majority of the results"
   ]
  },
  {
   "cell_type": "code",
   "execution_count": 61,
   "metadata": {},
   "outputs": [
    {
     "name": "stdout",
     "output_type": "stream",
     "text": [
      "0.7360646404921946\n"
     ]
    }
   ],
   "source": [
    "from sklearn import metrics\n",
    "print (metrics.accuracy_score(y_test, y_pred_class))"
   ]
  },
  {
   "cell_type": "code",
   "execution_count": 18,
   "metadata": {},
   "outputs": [
    {
     "name": "stdout",
     "output_type": "stream",
     "text": [
      "CV Accuracy [0.73415398 0.73680071 0.73870432 0.73701886 0.73514614], Average Accuracy 0.736364802903\n",
      "CPU times: user 3min 49s, sys: 4.74 s, total: 3min 54s\n",
      "Wall time: 3min 55s\n"
     ]
    }
   ],
   "source": [
    "%%time\n",
    "\n",
    "from sklearn.model_selection import cross_val_score\n",
    "scores = cross_val_score(logreg, X, y, scoring='accuracy', cv=5)\n",
    "print('CV Accuracy {}, Average Accuracy {}'.format(scores, scores.mean()))"
   ]
  },
  {
   "cell_type": "markdown",
   "metadata": {},
   "source": [
    "### The baseline null accuracy score, or dataset split"
   ]
  },
  {
   "cell_type": "code",
   "execution_count": 19,
   "metadata": {},
   "outputs": [
    {
     "name": "stdout",
     "output_type": "stream",
     "text": [
      "Baseline Null Accuracy Score:\n",
      "0    293802\n",
      "1    106687\n",
      "Name: status_group, dtype: int64\n"
     ]
    }
   ],
   "source": [
    "# 35.98% are defaulted loans\n",
    "print(\"Baseline Null Accuracy Score:\")\n",
    "print(lend.status_group.value_counts())"
   ]
  },
  {
   "cell_type": "markdown",
   "metadata": {},
   "source": [
    "### Confusion Matrix and Recall results"
   ]
  },
  {
   "cell_type": "code",
   "execution_count": 62,
   "metadata": {},
   "outputs": [
    {
     "name": "stdout",
     "output_type": "stream",
     "text": [
      "[[71892  1446]\n",
      " [24980  1805]]\n"
     ]
    }
   ],
   "source": [
    "from sklearn.metrics import confusion_matrix\n",
    "confusion = confusion_matrix(y_test, y_pred_class)\n",
    "print(confusion)"
   ]
  },
  {
   "cell_type": "markdown",
   "metadata": {},
   "source": [
    " - TN: 71,892 = we predicted no they're not defaults (will perform good), and they were not defaults (performed good).\n",
    " - FP: 1,446 = we predicted yes they are defaults (will perform bad), but they were not actual defaults (performed good) (Type I error).\n",
    " - FN: 24,980 = we predicted no they're not defaults (will perform good), and they were defaults (they performed bad) (Type II error).\n",
    " - TP: 1,805 = we predicted yes they are defaults (will perform bad), and they were actual defaults (performed bad)."
   ]
  },
  {
   "cell_type": "markdown",
   "metadata": {},
   "source": [
    "Specificity: When it's actually not a default, how often does it predict a non-default? TN/actual no\n",
    "\n",
    "Recall or Sensitivity: When it's actually a default, how often does it predict a default? TP/actual yes\n",
    "\n",
    "Precision: When it predicts a default, how often is it correct? TP/predicted yes\n",
    "\n",
    "F1 Score = 2*((precision x sensitivity)/(precision + sensitivity))"
   ]
  },
  {
   "cell_type": "code",
   "execution_count": 63,
   "metadata": {},
   "outputs": [
    {
     "name": "stdout",
     "output_type": "stream",
     "text": [
      "True: [1 1 1 0 1 0 1 1 0 0 0 0 1 0 0 0 0 0 0 0 1 0 0 0 0]\n",
      "Pred: [0 0 0 0 0 0 0 1 0 0 0 1 0 0 0 0 0 0 0 0 0 0 0 0 0]\n"
     ]
    }
   ],
   "source": [
    "# print the first 25 true and predicted responses\n",
    "from __future__ import print_function\n",
    "print('True:', y_test.values[0:25])\n",
    "print('Pred:', y_pred_class[0:25])"
   ]
  },
  {
   "cell_type": "code",
   "execution_count": 64,
   "metadata": {},
   "outputs": [
    {
     "name": "stdout",
     "output_type": "stream",
     "text": [
      "             precision    recall  f1-score   support\n",
      "\n",
      "non-default       0.74      0.98      0.84     73338\n",
      "    default       0.56      0.07      0.12     26785\n",
      "\n",
      "avg / total       0.69      0.74      0.65    100123\n",
      "\n"
     ]
    }
   ],
   "source": [
    "from sklearn.metrics import classification_report\n",
    "print(classification_report(y_test, y_pred_class, target_names=[\"non-default\", \"default\"]))"
   ]
  },
  {
   "cell_type": "markdown",
   "metadata": {},
   "source": [
    "### AUC curve score"
   ]
  },
  {
   "cell_type": "code",
   "execution_count": 65,
   "metadata": {},
   "outputs": [
    {
     "name": "stdout",
     "output_type": "stream",
     "text": [
      "AUC for Logistic Regression: 0.662\n"
     ]
    }
   ],
   "source": [
    "from sklearn.metrics import roc_auc_score\n",
    "logreg_auc = roc_auc_score(y_test, logreg.predict_proba(X_test_scale)[:, 1])\n",
    "print(\"AUC for Logistic Regression: {:.3f}\".format(logreg_auc))"
   ]
  },
  {
   "cell_type": "code",
   "execution_count": 66,
   "metadata": {},
   "outputs": [
    {
     "data": {
      "image/png": "[encoded data removed]",
      "text/plain": [
       "<matplotlib.figure.Figure at 0x115ce7590>"
      ]
     },
     "metadata": {},
     "output_type": "display_data"
    }
   ],
   "source": [
    "from sklearn.metrics import roc_curve\n",
    "fpr, tpr, thresholds = metrics.roc_curve(y_test, logreg.predict_proba(X_test)[:,1])\n",
    "\n",
    "plt.plot(fpr, tpr, label='ROC Curve (area = %0.2f)' % logreg_auc)\n",
    "plt.plot([0, 1], [0, 1], 'k--')\n",
    "plt.xlim([0.0, 1.0])\n",
    "plt.ylim([0.0, 1.05])\n",
    "plt.xlabel(\"FPR\")\n",
    "plt.ylabel(\"TPR (recall)\")\n",
    "plt.title('ROC Curve')\n",
    "plt.legend(loc=4)\n",
    "plt.show()"
   ]
  },
  {
   "cell_type": "markdown",
   "metadata": {},
   "source": [
    "### Importing the Random Forests Clasifier Model and tuning parameters"
   ]
  },
  {
   "cell_type": "code",
   "execution_count": 46,
   "metadata": {
    "collapsed": true
   },
   "outputs": [],
   "source": [
    "from sklearn.ensemble import RandomForestClassifier\n",
    "X_train, X_test, y_train, y_test = train_test_split(X, y)\n",
    "\n",
    "rf = RandomForestClassifier(n_estimators = 100, max_features='sqrt', class_weight=\"balanced\")"
   ]
  },
  {
   "cell_type": "code",
   "execution_count": 47,
   "metadata": {},
   "outputs": [
    {
     "name": "stdout",
     "output_type": "stream",
     "text": [
      "CPU times: user 3min 44s, sys: 4.75 s, total: 3min 49s\n",
      "Wall time: 4min 1s\n"
     ]
    },
    {
     "data": {
      "text/plain": [
       "RandomForestClassifier(bootstrap=True, class_weight='balanced',\n",
       "            criterion='gini', max_depth=None, max_features='sqrt',\n",
       "            max_leaf_nodes=None, min_impurity_decrease=0.0,\n",
       "            min_impurity_split=None, min_samples_leaf=1,\n",
       "            min_samples_split=2, min_weight_fraction_leaf=0.0,\n",
       "            n_estimators=100, n_jobs=1, oob_score=False, random_state=None,\n",
       "            verbose=0, warm_start=False)"
      ]
     },
     "execution_count": 47,
     "metadata": {},
     "output_type": "execute_result"
    }
   ],
   "source": [
    "%%time\n",
    "\n",
    "rf.fit(X_train, y_train)"
   ]
  },
  {
   "cell_type": "markdown",
   "metadata": {},
   "source": [
    "### Drawing the Feature Importance list"
   ]
  },
  {
   "cell_type": "code",
   "execution_count": 48,
   "metadata": {},
   "outputs": [
    {
     "data": {
      "image/png": "[encoded data removed]",
      "text/plain": [
       "<matplotlib.figure.Figure at 0x11a2f9f90>"
      ]
     },
     "metadata": {},
     "output_type": "display_data"
    }
   ],
   "source": [
    "importance_list = rf.feature_importances_\n",
    "name_list = X_train.columns\n",
    "importance_list, name_list = zip(*sorted(zip(importance_list[:25], name_list[:25])))\n",
    "\n",
    "plt.figure(figsize=(7, 5))\n",
    "plt.barh(range(len(name_list)),importance_list,align='center', color = 'red', alpha = 0.8)\n",
    "plt.yticks(range(len(name_list)),name_list)\n",
    "plt.xlabel('Relative Importance')\n",
    "plt.ylabel('Features')\n",
    "plt.title('Feature Importance by Random Forests Classifier');"
   ]
  },
  {
   "cell_type": "markdown",
   "metadata": {},
   "source": [
    "### Scoring the Random Forests model"
   ]
  },
  {
   "cell_type": "code",
   "execution_count": 49,
   "metadata": {},
   "outputs": [
    {
     "name": "stdout",
     "output_type": "stream",
     "text": [
      "CV Accuracy [0.73415398 0.73680071 0.73870432 0.73701886 0.73514614], Average Accuracy 0.736364802903\n",
      "CPU times: user 1.26 ms, sys: 1.17 ms, total: 2.42 ms\n",
      "Wall time: 2.84 ms\n"
     ]
    }
   ],
   "source": [
    "%%time\n",
    "\n",
    "from sklearn.model_selection import cross_val_score\n",
    "#scores = cross_val_score(rf, X, y, scoring='accuracy')\n",
    "print('CV Accuracy {}, Average Accuracy {}'.format(scores, scores.mean()))\n",
    "\n",
    "#for n_trees in range(1, 100, 25):\n",
    "    #model = RandomForestClassifier(n_estimators = n_trees)\n",
    "    #scores = cross_val_score(model, X, y, scoring='accuracy')\n",
    "    #print('n trees: {}, CV accuracy {}, Average accuracy {}'.format(n_trees, scores, scores.mean()))"
   ]
  },
  {
   "cell_type": "markdown",
   "metadata": {},
   "source": [
    "### Confusion Matrix and Recall results"
   ]
  },
  {
   "cell_type": "code",
   "execution_count": 50,
   "metadata": {},
   "outputs": [
    {
     "name": "stdout",
     "output_type": "stream",
     "text": [
      "Confusion matrix:\n",
      "[[70899  2471]\n",
      " [25823   930]]\n"
     ]
    }
   ],
   "source": [
    "confusion = confusion_matrix(y_test, y_pred_class)\n",
    "print(\"Confusion matrix:\\n{}\".format(confusion))"
   ]
  },
  {
   "cell_type": "code",
   "execution_count": 51,
   "metadata": {},
   "outputs": [
    {
     "name": "stdout",
     "output_type": "stream",
     "text": [
      "             precision    recall  f1-score   support\n",
      "\n",
      "non-default       0.73      0.97      0.83     73370\n",
      "    default       0.27      0.03      0.06     26753\n",
      "\n",
      "avg / total       0.61      0.72      0.63    100123\n",
      "\n"
     ]
    }
   ],
   "source": [
    "from sklearn.metrics import classification_report\n",
    "\n",
    "print(classification_report(y_test, y_pred_class, target_names=[\"non-default\", \"default\"]))"
   ]
  },
  {
   "cell_type": "markdown",
   "metadata": {},
   "source": [
    "### AUC curve score"
   ]
  },
  {
   "cell_type": "code",
   "execution_count": 52,
   "metadata": {},
   "outputs": [
    {
     "name": "stdout",
     "output_type": "stream",
     "text": [
      "AUC for Random Forests: 0.652\n"
     ]
    }
   ],
   "source": [
    "from sklearn.metrics import roc_auc_score\n",
    "rf_auc = roc_auc_score(y_test, rf.predict_proba(X_test)[:,1])\n",
    "print(\"AUC for Random Forests: {:.3f}\".format(rf_auc))"
   ]
  }
 ],
 "metadata": {
  "kernelspec": {
   "display_name": "Python 2",
   "language": "python",
   "name": "python2"
  },
  "language_info": {
   "codemirror_mode": {
    "name": "ipython",
    "version": 2
   },
   "file_extension": ".py",
   "mimetype": "text/x-python",
   "name": "python",
   "nbconvert_exporter": "python",
   "pygments_lexer": "ipython2",
   "version": "2.7.14"
  }
 },
 "nbformat": 4,
 "nbformat_minor": 2
}
